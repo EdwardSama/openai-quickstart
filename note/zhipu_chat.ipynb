{
 "cells": [
  {
   "cell_type": "code",
   "execution_count": 1,
   "id": "686ea117-55a3-4981-b859-ec0a9bd33593",
   "metadata": {},
   "outputs": [],
   "source": [
    "import pandas as pd\n",
    "# from zhipuai import ZhipuAI\n",
    "from openai import OpenAI \n",
    "import os\n",
    "api_key = os.environ.get('ZHIPU_KEY')\n",
    "\n",
    "#################### zhipu的第三方兼容写法\n",
    "client = OpenAI(\n",
    "    api_key=api_key,\n",
    "    base_url=\"https://open.bigmodel.cn/api/paas/v4/\"\n",
    ") \n",
    "\n",
    "\n",
    "messages=[\n",
    "    {\"role\": \"system\", \"content\": \"你是一个乐于助人的体育界专家。\"},\n",
    "    {\"role\": \"user\", \"content\": \"2008年奥运会是在哪里举行的？\"},\n",
    "]\n",
    "\n",
    "data = client.chat.completions.create(\n",
    "    model=\"glm-4\",\n",
    "    messages = messages\n",
    ")"
   ]
  },
  {
   "cell_type": "code",
   "execution_count": 7,
   "id": "79936e50-59ef-4e47-9ca4-d499f20b5f87",
   "metadata": {},
   "outputs": [],
   "source": [
    "message = data.choices[0].message.content"
   ]
  },
  {
   "cell_type": "code",
   "execution_count": 19,
   "id": "d6b54b8a-c2f1-4455-9b56-f2b07cf7239a",
   "metadata": {},
   "outputs": [],
   "source": [
    "# 添加 GPT 返回结果到聊天记录\n",
    "messages.append({\"role\": \"assistant\", \"content\": message})"
   ]
  },
  {
   "cell_type": "code",
   "execution_count": 20,
   "id": "b9297231-8ad0-4422-93b9-46141a928705",
   "metadata": {},
   "outputs": [],
   "source": [
    "# 第二轮对话\n",
    "messages.append({\"role\": \"user\", \"content\": \"1.金牌最多的是哪个国家？2.奖牌最多的是哪个国家？\"})"
   ]
  },
  {
   "cell_type": "code",
   "execution_count": 21,
   "id": "d24201e4-9fe9-49ef-bc43-f438aa095bb2",
   "metadata": {},
   "outputs": [
    {
     "data": {
      "text/plain": [
       "[{'role': 'system', 'content': '你是一个乐于助人的体育界专家。'},\n",
       " {'role': 'user', 'content': '2008年奥运会是在哪里举行的？'},\n",
       " {'role': 'assistant',\n",
       "  'content': '2008年奥运会是在中国北京举行的。这次奥运会对于中国来说具有历史意义，它不仅展示了中国的综合国力和文化魅力，还促进了北京乃至整个中国的城市建设和体育事业的发展。北京奥运会以“同一个世界，同一个梦想”（One World, One Dream）为主题，得到了国际社会的广泛赞誉。'},\n",
       " {'role': 'user', 'content': '1.金牌最多的是哪个国家？2.奖牌最多的是哪个国家？'}]"
      ]
     },
     "execution_count": 21,
     "metadata": {},
     "output_type": "execute_result"
    }
   ],
   "source": [
    "messages"
   ]
  },
  {
   "cell_type": "code",
   "execution_count": 22,
   "id": "810ce83a-2a13-4b68-b644-29dfde5778e9",
   "metadata": {},
   "outputs": [],
   "source": [
    "data = client.chat.completions.create(\n",
    "    model=\"glm-4\",\n",
    "    messages = messages\n",
    ")"
   ]
  },
  {
   "cell_type": "code",
   "execution_count": 24,
   "id": "8dd16956-e115-426a-9f49-04a936c39802",
   "metadata": {},
   "outputs": [
    {
     "name": "stdout",
     "output_type": "stream",
     "text": [
      "在2008年北京奥运会上：\n",
      "\n",
      "1. 金牌最多的国家是中国，共获得了51枚金牌。\n",
      "2. 奖牌最多的国家是美国，共获得了110枚奖牌，其中包括36枚金牌、38枚银牌和36枚铜牌。\n"
     ]
    }
   ],
   "source": [
    "message = data.choices[0].message.content\n",
    "print(message)"
   ]
  },
  {
   "cell_type": "code",
   "execution_count": 25,
   "id": "0a92a7f7-2ff6-40ed-81fc-88d5474c2ada",
   "metadata": {},
   "outputs": [],
   "source": [
    "data = client.chat.completions.create(\n",
    "  model=\"glm-4\",\n",
    "  messages=[{'role': 'user', 'content': '1.金牌最多的是哪个国家？2.奖牌最多的是哪个国家？'}]\n",
    ")  # 丢弃历史对话信息，则得到不一样的回答"
   ]
  },
  {
   "cell_type": "code",
   "execution_count": 26,
   "id": "7436d88b-6ab6-4e35-bc60-e793166b4969",
   "metadata": {},
   "outputs": [
    {
     "data": {
      "text/plain": [
       "'截至我知识更新的时间点（2023年），在夏季奥运会中，金牌最多的国家是美国，他们在历届夏季奥运会中获得了大量的金牌。而奖牌最多的国家也是美国，美国在夏季奥运会中累积了非常多的金牌、银牌和铜牌。\\n\\n至于冬季奥运会，金牌和奖牌最多的国家通常是挪威，因为他们在这个项目上的表现非常出色。\\n\\n请注意，这些数据是基于历届奥运会的累积结果，具体数字可能会随着每届奥运会的举办而发生变化。如果你需要最新的数据，建议查阅最近一届奥运会的官方统计。'"
      ]
     },
     "execution_count": 26,
     "metadata": {},
     "output_type": "execute_result"
    }
   ],
   "source": [
    "data.choices[0].message.content"
   ]
  }
 ],
 "metadata": {
  "kernelspec": {
   "display_name": "llm",
   "language": "python",
   "name": "llm"
  },
  "language_info": {
   "codemirror_mode": {
    "name": "ipython",
    "version": 3
   },
   "file_extension": ".py",
   "mimetype": "text/x-python",
   "name": "python",
   "nbconvert_exporter": "python",
   "pygments_lexer": "ipython3",
   "version": "3.10.11"
  }
 },
 "nbformat": 4,
 "nbformat_minor": 5
}
